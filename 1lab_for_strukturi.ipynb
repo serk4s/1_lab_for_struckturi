{
 "cells": [
  {
   "metadata": {},
   "cell_type": "code",
   "outputs": [],
   "execution_count": null,
   "source": [
    "import time\n",
    "import random\n",
    "import matplotlib.pyplot as plt"
   ],
   "id": "f181873f2448574d"
  },
  {
   "metadata": {},
   "cell_type": "markdown",
   "source": "# Задание 1. Анализ функции",
   "id": "f04815088abd9e4a"
  },
  {
   "metadata": {
    "ExecuteTime": {
     "end_time": "2025-09-09T09:42:10.573814Z",
     "start_time": "2025-09-09T09:42:10.561693Z"
    }
   },
   "cell_type": "code",
   "source": [
    "def foo(s): # s - строка\n",
    "    val = 0\n",
    "    for c in s:\n",
    "        if c.isdigit():\n",
    "            val += int(c)\n",
    "    return val\n",
    "\n",
    "# Проверка работы функции\n",
    "test_string = \"abc123def45\"\n",
    "result = foo(test_string)\n",
    "print(f\"Сумма цифр в строке '{test_string}': {result}\")"
   ],
   "id": "1151b7a48a08dba9",
   "outputs": [
    {
     "name": "stdout",
     "output_type": "stream",
     "text": [
      "Сумма цифр в строке 'abc123def45': 15\n"
     ]
    }
   ],
   "execution_count": 11
  },
  {
   "metadata": {},
   "cell_type": "markdown",
   "source": [
    "## Ответы на вопросы:\n",
    "\n",
    "### Что выполняет функция?\n",
    "Функция вычисляет сумму всех цифр в переданной строке.\n",
    "### Вычислительная сложность алгоритма:\n",
    "O(n), где n - длина строки. Алгоритм имеет линейную сложность, так как проходит по каждому символу строки ровно один раз."
   ],
   "id": "9029926741762026"
  },
  {
   "metadata": {},
   "cell_type": "markdown",
   "source": "## Измерение времени выполнения",
   "id": "f8f21f14758bd639"
  },
  {
   "metadata": {
    "ExecuteTime": {
     "end_time": "2025-09-09T09:42:43.121991Z",
     "start_time": "2025-09-09T09:42:43.107218Z"
    }
   },
   "cell_type": "code",
   "source": [
    "string_lengths = [100, 500, 1000, 2000, 5000, 8000, 10000]\n",
    "times = []\n",
    "\n",
    "print(\"Измерение времени выполнения...\")\n",
    "for length in string_lengths:\n",
    "    # Генерация случайной строки\n",
    "    test_str = ''.join(random.choices('abcdefghijklmnopqrstuvwxyz0123456789', k=length))\n",
    "\n",
    "    # Измерение времени\n",
    "    start_time = time.perf_counter()  # Более точное время\n",
    "    foo(test_str)\n",
    "    end_time = time.perf_counter()\n",
    "\n",
    "    execution_time = end_time - start_time\n",
    "    times.append(execution_time)\n",
    "    print(f\"Длина: {length}, время: {execution_time:.6f} сек\")"
   ],
   "id": "2c7ca8a1fd422afc",
   "outputs": [
    {
     "name": "stdout",
     "output_type": "stream",
     "text": [
      "Измерение времени выполнения...\n",
      "Длина: 100, время: 0.000021 сек\n",
      "Длина: 500, время: 0.000038 сек\n",
      "Длина: 1000, время: 0.000083 сек\n",
      "Длина: 2000, время: 0.000169 сек\n",
      "Длина: 5000, время: 0.000413 сек\n",
      "Длина: 8000, время: 0.000623 сек\n",
      "Длина: 10000, время: 0.000988 сек\n"
     ]
    }
   ],
   "execution_count": 12
  },
  {
   "metadata": {},
   "cell_type": "markdown",
   "source": "## График",
   "id": "1df164d51a28f07d"
  },
  {
   "metadata": {
    "ExecuteTime": {
     "end_time": "2025-09-09T09:46:58.216793Z",
     "start_time": "2025-09-09T09:46:58.210796Z"
    }
   },
   "cell_type": "code",
   "source": [
    "print(\"\\n\" + \"=\"*50)\n",
    "print(\"ТЕКСТОВЫЙ ГРАФИК ЗАВИСИМОСТИ ВРЕМЕНИ ОТ ДЛИНЫ СТРОКИ\")\n",
    "print(\"=\"*50)\n",
    "\n",
    "max_time = max(times)\n",
    "for i, (length, t) in enumerate(zip(string_lengths, times)):\n",
    "    bar_length = int(t / max_time * 40)  # Масштабируем до 40 символов\n",
    "    bar = '█' * bar_length\n",
    "    print(f\"{length:6d} | {bar} {t:.6f} сек\")"
   ],
   "id": "4b45a630408c71",
   "outputs": [
    {
     "name": "stdout",
     "output_type": "stream",
     "text": [
      "\n",
      "==================================================\n",
      "ТЕКСТОВЫЙ ГРАФИК ЗАВИСИМОСТИ ВРЕМЕНИ ОТ ДЛИНЫ СТРОКИ\n",
      "==================================================\n",
      "   100 |  0.000021 сек\n",
      "   500 | █ 0.000038 сек\n",
      "  1000 | ███ 0.000083 сек\n",
      "  2000 | ██████ 0.000169 сек\n",
      "  5000 | ████████████████ 0.000413 сек\n",
      "  8000 | █████████████████████████ 0.000623 сек\n",
      " 10000 | ████████████████████████████████████████ 0.000988 сек\n"
     ]
    }
   ],
   "execution_count": 18
  },
  {
   "metadata": {},
   "cell_type": "markdown",
   "source": "## Анализ сложности",
   "id": "916d1608cc8a2d81"
  },
  {
   "metadata": {
    "ExecuteTime": {
     "end_time": "2025-09-09T09:43:04.912907Z",
     "start_time": "2025-09-09T09:43:04.906129Z"
    }
   },
   "cell_type": "code",
   "source": [
    "print(\"\\nАнализ сложности:\")\n",
    "print(\"1. Функция проходит по каждому символу строки один раз\")\n",
    "print(\"2. Вычислительная сложность: O(n), где n - длина строки\")\n",
    "print(\"3. Алгоритм имеет линейную сложность\")"
   ],
   "id": "7b26341d6ef87a2e",
   "outputs": [
    {
     "name": "stdout",
     "output_type": "stream",
     "text": [
      "\n",
      "Анализ сложности:\n",
      "1. Функция проходит по каждому символу строки один раз\n",
      "2. Вычислительная сложность: O(n), где n - длина строки\n",
      "3. Алгоритм имеет линейную сложность\n"
     ]
    }
   ],
   "execution_count": 14
  },
  {
   "metadata": {},
   "cell_type": "markdown",
   "source": "# Задание 2. Два алгоритма для задачи",
   "id": "f54c92e58ac9971a"
  },
  {
   "metadata": {},
   "cell_type": "markdown",
   "source": "## Алгоритм 1: Сортировка (O(n log n))",
   "id": "dc19da6e2b21fdae"
  },
  {
   "metadata": {
    "ExecuteTime": {
     "end_time": "2025-09-09T09:49:21.305856Z",
     "start_time": "2025-09-09T09:49:21.295013Z"
    }
   },
   "cell_type": "code",
   "source": [
    "def find_top_three_sort(nums):\n",
    "    \"\"\"\n",
    "    Алгоритм 1: Сортировка списка и выбор трех наибольших элементов\n",
    "    Сложность: O(n log n)\n",
    "    \"\"\"\n",
    "    if len(nums) < 3:\n",
    "        return sorted(nums, reverse=True)\n",
    "\n",
    "    sorted_nums = sorted(nums, reverse=True)\n",
    "    return sorted_nums[:3]\n",
    "\n",
    "# Тестирование\n",
    "test_nums = [5, 2, 8, 1, 9, 3, 7, 4, 6]\n",
    "result = find_top_three_sort(test_nums)\n",
    "print(f\"Три наибольших числа (алгоритм 1): {result}\")"
   ],
   "id": "aa37a75daada6787",
   "outputs": [
    {
     "name": "stdout",
     "output_type": "stream",
     "text": [
      "Три наибольших числа (алгоритм 1): [9, 8, 7]\n"
     ]
    }
   ],
   "execution_count": 19
  },
  {
   "metadata": {},
   "cell_type": "markdown",
   "source": "## Алгоритм 2: Однопроходный алгоритм (O(n))",
   "id": "85a3bde1195181e6"
  },
  {
   "metadata": {
    "ExecuteTime": {
     "end_time": "2025-09-09T09:49:38.328288Z",
     "start_time": "2025-09-09T09:49:38.308831Z"
    }
   },
   "cell_type": "code",
   "source": [
    "def find_top_three_single_pass(nums):\n",
    "    \"\"\"\n",
    "    Алгоритм 2: Однопроходное нахождение трех наибольших элементов\n",
    "    Сложность: O(n)\n",
    "    \"\"\"\n",
    "    if len(nums) < 3:\n",
    "        return sorted(nums, reverse=True)\n",
    "\n",
    "    first = second = third = float('-inf')\n",
    "\n",
    "    for num in nums:\n",
    "        if num > first:\n",
    "            third = second\n",
    "            second = first\n",
    "            first = num\n",
    "        elif num > second:\n",
    "            third = second\n",
    "            second = num\n",
    "        elif num > third:\n",
    "            third = num\n",
    "\n",
    "    return [first, second, third]\n",
    "\n",
    "# Тестирование\n",
    "result = find_top_three_single_pass(test_nums)\n",
    "print(f\"Три наибольших числа (алгоритм 2): {result}\")"
   ],
   "id": "95ecdbd7bd72bc82",
   "outputs": [
    {
     "name": "stdout",
     "output_type": "stream",
     "text": [
      "Три наибольших числа (алгоритм 2): [9, 8, 7]\n"
     ]
    }
   ],
   "execution_count": 20
  },
  {
   "metadata": {},
   "cell_type": "markdown",
   "source": "## Сравнение производительности алгоритмов:",
   "id": "ec89c5b811cd1a4c"
  },
  {
   "metadata": {
    "ExecuteTime": {
     "end_time": "2025-09-09T10:39:39.392805Z",
     "start_time": "2025-09-09T10:39:39.309165Z"
    }
   },
   "cell_type": "code",
   "source": [
    "list_sizes = [100, 500, 1000, 5000, 10000, 20000, 50000]\n",
    "times_sort = []\n",
    "times_single = []\n",
    "\n",
    "print(\"Сравнение производительности алгоритмов:\")\n",
    "print(\"Размер | Время сортировки | Время однопроходный | Отношение\")\n",
    "print(\"-\" * 65)\n",
    "\n",
    "for size in list_sizes:\n",
    "    test_list = [random.randint(1, 1000000) for _ in range(size)]\n",
    "\n",
    "    # Алгоритм 1\n",
    "    start_time = time.time()\n",
    "    find_top_three_sort(test_list.copy())\n",
    "    time_sort = time.time() - start_time\n",
    "    times_sort.append(time_sort)\n",
    "\n",
    "    # Алгоритм 2\n",
    "    start_time = time.time()\n",
    "    find_top_three_single_pass(test_list.copy())\n",
    "    time_single = time.time() - start_time\n",
    "    times_single.append(time_single)\n",
    "\n",
    "    ratio = time_sort / time_single if time_single > 0 else float('inf')\n",
    "    print(f\"{size:6d} | {time_sort:15.6f} | {time_single:19.6f} | {ratio:8.2f}x\")"
   ],
   "id": "e828bf67c39a54cf",
   "outputs": [
    {
     "name": "stdout",
     "output_type": "stream",
     "text": [
      "Сравнение производительности алгоритмов:\n",
      "Размер | Время сортировки | Время однопроходный | Отношение\n",
      "-----------------------------------------------------------------\n",
      "   100 |        0.000024 |            0.000023 |     1.04x\n",
      "   500 |        0.000069 |            0.000024 |     2.86x\n",
      "  1000 |        0.000092 |            0.000044 |     2.08x\n",
      "  5000 |        0.000621 |            0.000361 |     1.72x\n",
      " 10000 |        0.001036 |            0.000400 |     2.59x\n",
      " 20000 |        0.002216 |            0.000771 |     2.88x\n",
      " 50000 |        0.006034 |            0.001917 |     3.15x\n"
     ]
    }
   ],
   "execution_count": 22
  },
  {
   "metadata": {},
   "cell_type": "markdown",
   "source": "# Задание 3. Решение уравнения",
   "id": "ba4f76145b7c5112"
  },
  {
   "metadata": {
    "ExecuteTime": {
     "end_time": "2025-09-09T10:40:15.412775Z",
     "start_time": "2025-09-09T10:40:15.403098Z"
    }
   },
   "cell_type": "code",
   "source": [
    "# Решение уравнения: N^2 - N - 10 = 4N + 40\n",
    "# Приводим к виду: N^2 - 5N - 50 = 0\n",
    "\n",
    "# Решаем квадратное уравнение\n",
    "a = 1\n",
    "b = -5\n",
    "c = -50\n",
    "\n",
    "# Дискриминант\n",
    "D = b**2 - 4*a*c\n",
    "\n",
    "# Корни уравнения\n",
    "N1 = (-b + D**0.5) / (2*a)\n",
    "N2 = (-b - D**0.5) / (2*a)\n",
    "\n",
    "print(f\"Корни уравнения: N1 = {N1}, N2 = {N2}\")\n",
    "\n",
    "# Выбираем положительный корень (размер массива не может быть отрицательным)\n",
    "N = max(N1, N2)\n",
    "print(f\"Размер массива, при котором время выполнения одинаково: N = {N:.2f}\")\n",
    "\n",
    "# Проверка\n",
    "T1 = N**2 - N - 10\n",
    "T2 = 4*N + 40\n",
    "print(f\"T1({N:.2f}) = {T1:.2f}\")\n",
    "print(f\"T2({N:.2f}) = {T2:.2f}\")"
   ],
   "id": "1a29cecc40a823d",
   "outputs": [
    {
     "name": "stdout",
     "output_type": "stream",
     "text": [
      "Корни уравнения: N1 = 10.0, N2 = -5.0\n",
      "Размер массива, при котором время выполнения одинаково: N = 10.00\n",
      "T1(10.00) = 80.00\n",
      "T2(10.00) = 80.00\n"
     ]
    }
   ],
   "execution_count": 23
  },
  {
   "metadata": {},
   "cell_type": "markdown",
   "source": "# Задание 4. Сравнение производительности оператора del",
   "id": "b65b70b2e6b24441"
  },
  {
   "metadata": {
    "ExecuteTime": {
     "end_time": "2025-09-09T10:44:04.602306Z",
     "start_time": "2025-09-09T10:44:04.552010Z"
    }
   },
   "cell_type": "code",
   "source": [
    "import time\n",
    "import random\n",
    "\n",
    "# Задание 4: Сравнение производительности оператора del\n",
    "sizes = [1000, 5000, 10000, 50000, 100000]\n",
    "dict_times = []\n",
    "list_times = []\n",
    "\n",
    "print(\"Сравнение производительности оператора del\")\n",
    "print(\"Размер | Словарь O(1) | Список O(n) | Отношение\")\n",
    "print(\"-\" * 55)\n",
    "\n",
    "for size in sizes:\n",
    "    # Создание структур данных\n",
    "    test_dict = {i: f\"value_{i}\" for i in range(size)}\n",
    "    test_list = list(range(size))\n",
    "\n",
    "    # Измерение времени для словаря\n",
    "    start = time.time()\n",
    "    if size > 0:\n",
    "        del test_dict[random.randint(0, size-1)]\n",
    "    dict_time = time.time() - start\n",
    "    dict_times.append(dict_time)\n",
    "\n",
    "    # Измерение времени для списка\n",
    "    start = time.time()\n",
    "    if size > 0:\n",
    "        del test_list[random.randint(0, size-1)]\n",
    "    list_time = time.time() - start\n",
    "    list_times.append(list_time)\n",
    "\n",
    "    ratio = list_time / dict_time if dict_time > 0 else float('inf')\n",
    "    print(f\"{size:6d} | {dict_time:10.6f} | {list_time:9.6f} | {ratio:8.1f}x\")\n",
    "\n",
    "# Текстовый график\n",
    "print(\"\\nВизуализация производительности:\")\n",
    "print(\"Размер | Словарь (O(1)) | Список (O(n))\")\n",
    "print(\"-\" * 45)\n",
    "\n",
    "max_time = max(max(dict_times), max(list_times))\n",
    "\n",
    "for i, size in enumerate(sizes):\n",
    "    bars_dict = int(dict_times[i] / max_time * 20)\n",
    "    bars_list = int(list_times[i] / max_time * 20)\n",
    "\n",
    "    print(f\"{size:6d} | {'█' * bars_dict}{' ' * (20 - bars_dict)} | {'█' * bars_list}\")\n",
    "    print(f\"       | {dict_times[i]:.6f} сек     | {list_times[i]:.6f} сек\")"
   ],
   "id": "8e785dbdada1087f",
   "outputs": [
    {
     "name": "stdout",
     "output_type": "stream",
     "text": [
      "Сравнение производительности оператора del\n",
      "Размер | Словарь O(1) | Список O(n) | Отношение\n",
      "-------------------------------------------------------\n",
      "  1000 |   0.000027 |  0.000002 |      0.1x\n",
      "  5000 |   0.000010 |  0.000002 |      0.2x\n",
      " 10000 |   0.000008 |  0.000001 |      0.1x\n",
      " 50000 |   0.000013 |  0.000008 |      0.6x\n",
      "100000 |   0.000010 |  0.000010 |      1.0x\n",
      "\n",
      "Визуализация производительности:\n",
      "Размер | Словарь (O(1)) | Список (O(n))\n",
      "---------------------------------------------\n",
      "  1000 | ████████████████████ | █\n",
      "       | 0.000027 сек     | 0.000002 сек\n",
      "  5000 | ███████              | █\n",
      "       | 0.000010 сек     | 0.000002 сек\n",
      " 10000 | █████                | \n",
      "       | 0.000008 сек     | 0.000001 сек\n",
      " 50000 | █████████            | █████\n",
      "       | 0.000013 сек     | 0.000008 сек\n",
      "100000 | ███████              | ███████\n",
      "       | 0.000010 сек     | 0.000010 сек\n"
     ]
    }
   ],
   "execution_count": 27
  },
  {
   "metadata": {},
   "cell_type": "markdown",
   "source": "# Задание 5. Сравнение производительности оператора in",
   "id": "1dbc3ace9292e1b4"
  },
  {
   "metadata": {
    "ExecuteTime": {
     "end_time": "2025-09-09T10:46:09.681203Z",
     "start_time": "2025-09-09T10:46:09.660989Z"
    }
   },
   "cell_type": "code",
   "source": [
    "import time\n",
    "import random\n",
    "\n",
    "sizes = [1000, 5000, 10000, 50000, 100000]\n",
    "set_times = []\n",
    "list_times = []\n",
    "\n",
    "print(\"Сравнение производительности оператора in\")\n",
    "print(\"Размер | Множество O(1) | Список O(n) | Отношение\")\n",
    "print(\"-\" * 60)\n",
    "\n",
    "for size in sizes:\n",
    "    # Создание структур данных\n",
    "    test_set = set(range(size))\n",
    "    test_list = list(range(size))\n",
    "\n",
    "    # Поиск элемента, которого нет (худший случай)\n",
    "    target = size + 1\n",
    "\n",
    "    # Измерение времени для множества\n",
    "    start = time.time()\n",
    "    target in test_set\n",
    "    set_time = time.time() - start\n",
    "    set_times.append(set_time)\n",
    "\n",
    "    # Измерение времени для списка\n",
    "    start = time.time()\n",
    "    target in test_list\n",
    "    list_time = time.time() - start\n",
    "    list_times.append(list_time)\n",
    "\n",
    "    ratio = list_time / set_time if set_time > 0 else float('inf')\n",
    "    print(f\"{size:6d} | {set_time:12.6f} | {list_time:10.6f} | {ratio:8.1f}x\")\n",
    "\n",
    "# Текстовый график\n",
    "print(\"\\nВизуализация производительности:\")\n",
    "print(\"Размер | Множество (O(1)) | Список (O(n))\")\n",
    "print(\"-\" * 50)\n",
    "\n",
    "max_time = max(max(set_times), max(list_times))\n",
    "\n",
    "for i, size in enumerate(sizes):\n",
    "    bars_set = int(set_times[i] / max_time * 20)\n",
    "    bars_list = int(list_times[i] / max_time * 20)\n",
    "\n",
    "    print(f\"{size:6d} | {'█' * bars_set}{' ' * (20 - bars_set)} | {'█' * bars_list}\")\n",
    "    print(f\"       | {set_times[i]:.6f} сек      | {list_times[i]:.6f} сек\")"
   ],
   "id": "5036ee767e0e3fd8",
   "outputs": [
    {
     "name": "stdout",
     "output_type": "stream",
     "text": [
      "Сравнение производительности оператора in\n",
      "Размер | Множество O(1) | Список O(n) | Отношение\n",
      "------------------------------------------------------------\n",
      "  1000 |     0.000002 |   0.000014 |      7.4x\n",
      "  5000 |     0.000000 |   0.000063 |      infx\n",
      " 10000 |     0.000000 |   0.000127 |      infx\n",
      " 50000 |     0.000002 |   0.000858 |    449.9x\n",
      "100000 |     0.000002 |   0.001177 |    548.4x\n",
      "\n",
      "Визуализация производительности:\n",
      "Размер | Множество (O(1)) | Список (O(n))\n",
      "--------------------------------------------------\n",
      "  1000 |                      | \n",
      "       | 0.000002 сек      | 0.000014 сек\n",
      "  5000 |                      | █\n",
      "       | 0.000000 сек      | 0.000063 сек\n",
      " 10000 |                      | ██\n",
      "       | 0.000000 сек      | 0.000127 сек\n",
      " 50000 |                      | ██████████████\n",
      "       | 0.000002 сек      | 0.000858 сек\n",
      "100000 |                      | ████████████████████\n",
      "       | 0.000002 сек      | 0.001177 сек\n"
     ]
    }
   ],
   "execution_count": 30
  }
 ],
 "metadata": {
  "kernelspec": {
   "display_name": "Python 3",
   "language": "python",
   "name": "python3"
  },
  "language_info": {
   "codemirror_mode": {
    "name": "ipython",
    "version": 2
   },
   "file_extension": ".py",
   "mimetype": "text/x-python",
   "name": "python",
   "nbconvert_exporter": "python",
   "pygments_lexer": "ipython2",
   "version": "2.7.6"
  }
 },
 "nbformat": 4,
 "nbformat_minor": 5
}
